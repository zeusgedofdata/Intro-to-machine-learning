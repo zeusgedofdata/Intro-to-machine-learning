{
 "cells": [
  {
   "cell_type": "code",
   "execution_count": 32,
   "metadata": {},
   "outputs": [],
   "source": [
    "import pandas as pd\n",
    "import numpy as np\n",
    "import seaborn as sns\n",
    "import matplotlib.pyplot as plt\n",
    "import matplotlib.patches as patches\n",
    "import ipywidgets as widgets\n",
    "import math\n",
    "from random import randint"
   ]
  },
  {
   "cell_type": "markdown",
   "metadata": {},
   "source": [
    "Estimating the equation for Bernoulli Density"
   ]
  },
  {
   "cell_type": "code",
   "execution_count": 148,
   "metadata": {},
   "outputs": [
    {
     "data": {
      "text/plain": [
       "0.65625"
      ]
     },
     "execution_count": 148,
     "metadata": {},
     "output_type": "execute_result"
    }
   ],
   "source": [
    "def flip_coins(n):\n",
    "    return sum([randint(0,1) for x in range(n)])\n",
    "def calculate_bernoulli_density(p,x0,x1,n):\n",
    "    density = 0\n",
    "    for x_prime in range(x0, x1+1):\n",
    "        fac = math.factorial(n)/(math.factorial(x_prime)*math.factorial(n-x_prime))\n",
    "        density_= fac * p**x_prime*(1-p)**(n-x_prime)\n",
    "        density += density_\n",
    "    return density\n",
    "calculate_bernoulli_density(.5,4,6,10)"
   ]
  },
  {
   "cell_type": "code",
   "execution_count": 174,
   "metadata": {},
   "outputs": [
    {
     "data": {
      "application/vnd.jupyter.widget-view+json": {
       "model_id": "7e73921b80bf4f3da254e73bde75bd94",
       "version_major": 2,
       "version_minor": 0
      },
      "text/plain": [
       "VBox(children=(IntSlider(value=100, description='# exp', max=1000, min=50), IntSlider(value=10, description='#…"
      ]
     },
     "metadata": {},
     "output_type": "display_data"
    }
   ],
   "source": [
    "experiment_count_slide = widgets.IntSlider(\n",
    "         description='# exp',\n",
    "         value=100,\n",
    "         min=50,\n",
    "         max=1000)\n",
    "number_flips_slide = widgets.IntSlider(\n",
    "         description='# of flips',\n",
    "         value=10,\n",
    "         min=10,\n",
    "         max=250)\n",
    "range_slide = widgets.IntRangeSlider(\n",
    "    value=[5, 7],\n",
    "    min=1,\n",
    "    max=250,\n",
    "    step=1,\n",
    "    description='Test:',\n",
    "    continuous_update=False,\n",
    "    readout=True,\n",
    "    readout_format='d',\n",
    ")\n",
    "\n",
    "use_slider_inputs = widgets.Checkbox(\n",
    "    value=False,\n",
    "    description='Use values set by these sliders',\n",
    "    disabled=False,\n",
    ")\n",
    "\n",
    "box = widgets.VBox([experiment_count_slide, number_flips_slide, range_slide, use_slider_inputs])\n",
    "box"
   ]
  },
  {
   "cell_type": "code",
   "execution_count": 182,
   "metadata": {},
   "outputs": [
    {
     "data": {
      "text/plain": [
       "<matplotlib.axes._subplots.AxesSubplot at 0x27616e5e9b0>"
      ]
     },
     "execution_count": 182,
     "metadata": {},
     "output_type": "execute_result"
    },
    {
     "data": {
      "image/png": "[encoded data removed]",
      "text/plain": [
       "<Figure size 432x288 with 1 Axes>"
      ]
     },
     "metadata": {
      "needs_background": "light"
     },
     "output_type": "display_data"
    }
   ],
   "source": [
    "experiment_count = 1000\n",
    "number_flips = 100\n",
    "expected_range = [40,60]\n",
    "\n",
    "if use_slider_inputs.value:\n",
    "    experiment_count = experiment_count_slide.value\n",
    "    number_flips=number_flips_slide.value\n",
    "    expected_range = list(range_slide.value)\n",
    "    \n",
    "    \n",
    "results = []\n",
    "bernoulli = pd.DataFrame(columns = ['observed', 'predicted'])\n",
    "\n",
    "for n in range(experiment_count):\n",
    "    flips = flip_coins(number_flips)\n",
    "    result = int(expected_range[0]<=flips<=expected_range[1])\n",
    "    results.append(result)\n",
    "    observed = sum(results)/(n+1)\n",
    "    bernoulli = bernoulli.append({'observed':observed}, ignore_index = True)\n",
    "\n",
    "bernoulli['predicted'] = calculate_bernoulli_density(.5,expected_range[0],expected_range[1],number_flips)\n",
    "\n",
    "ax = plt.gca()\n",
    "bernoulli.plot(kind='line', y='observed', ax=ax)\n",
    "bernoulli.plot(kind='line', y='predicted', ax=ax)"
   ]
  },
  {
   "cell_type": "code",
   "execution_count": null,
   "metadata": {},
   "outputs": [],
   "source": []
  },
  {
   "cell_type": "code",
   "execution_count": null,
   "metadata": {},
   "outputs": [],
   "source": []
  },
  {
   "cell_type": "code",
   "execution_count": null,
   "metadata": {},
   "outputs": [],
   "source": []
  }
 ],
 "metadata": {
  "kernelspec": {
   "display_name": "Python 3",
   "language": "python",
   "name": "python3"
  },
  "language_info": {
   "codemirror_mode": {
    "name": "ipython",
    "version": 3
   },
   "file_extension": ".py",
   "mimetype": "text/x-python",
   "name": "python",
   "nbconvert_exporter": "python",
   "pygments_lexer": "ipython3",
   "version": "3.6.9"
  }
 },
 "nbformat": 4,
 "nbformat_minor": 4
}

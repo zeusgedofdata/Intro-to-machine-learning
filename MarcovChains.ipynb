{
 "metadata": {
  "language_info": {
   "codemirror_mode": {
    "name": "ipython",
    "version": 3
   },
   "file_extension": ".py",
   "mimetype": "text/x-python",
   "name": "python",
   "nbconvert_exporter": "python",
   "pygments_lexer": "ipython3",
   "version": "3.8.0-final"
  },
  "orig_nbformat": 2,
  "kernelspec": {
   "name": "python3",
   "display_name": "Python 3",
   "language": "python"
  }
 },
 "nbformat": 4,
 "nbformat_minor": 2,
 "cells": [
  {
   "cell_type": "code",
   "execution_count": 4,
   "metadata": {},
   "outputs": [],
   "source": [
    "\n",
    "def get_key(val, my_dict):\n",
    "    for key, value in my_dict.items():\n",
    "         if val == value:\n",
    "             return key\n",
    "    return \"key doesn't exist\""
   ]
  },
  {
   "cell_type": "code",
   "execution_count": 29,
   "metadata": {},
   "outputs": [],
   "source": [
    "#This just sets up our basic objects\n",
    "class State:\n",
    "    def __init__(self, name, transition_vector, observation_liklihoods):\n",
    "        self.name = name\n",
    "        # A dict that contains the name state it can transtion to, and the likelihood that you do it\n",
    "        self.a = transition_vector\n",
    "        # A dict that contains all possibles outputs and their liklihood\n",
    "        self.b = observation_liklihoods\n",
    "\n",
    "\n",
    "class HMM:\n",
    "    def __init__(self, states, initial_probabilities):\n",
    "        # A list of all possible states\n",
    "        self.q = states\n",
    "        # The likelihood of starting in each state (dict)\n",
    "        self.pie = initial_probabilities\n",
    "        # Initialization of alpha variable with dummy data\n",
    "        self.alpha = {state.name:1 for state in states}\n",
    "\n",
    "    def likelihood(self, observation_sequence):\n",
    "        '''\n",
    "        Given a sequence of observations find the likelihood that they occured with the given model\n",
    "        '''\n",
    "        #Initialization\n",
    "        self.initial_alpha(observation_sequence[0])\n",
    "        #Recursion\n",
    "        for observation in observation_sequence[1:]:\n",
    "            self.calculate_alpha(observation)\n",
    "        #Termination\n",
    "        return sum(self.alpha.values())\n",
    "\n",
    "    def decode(self, observation_sequence):\n",
    "        self.initial_alpha(observation_sequence[0])\n",
    "        back_trace = []\n",
    "        path = []\n",
    "        for observation in observation_sequence[1:]:\n",
    "            back_trace.append(self.viterbi(observation))\n",
    "        print(get_key(max(self.alpha.values()), self.alpha))\n",
    "        #Get the most likly final state\n",
    "        path.append(get_key(max(self.alpha.values()), self.alpha))\n",
    "        #Walk backwards graphing the most likli previous state from this one\n",
    "        print(back_trace)\n",
    "        for trace in back_trace[::-1]:\n",
    "            #Add to the final path the previous state that was the most liklione to get here\n",
    "            print(path[-1])\n",
    "            path.append(trace[path[-1]])\n",
    "        return path[::-1]\n",
    "    \n",
    "    def initial_alpha(self, observation):\n",
    "        for state in self.q: \n",
    "            self.alpha[state.name] = self.pie[state.name] * state.b[observation]   \n",
    "\n",
    "\n",
    "    def calculate_alpha(self, observation):\n",
    "\t\t#Store the previous alpha values for calculation later\n",
    "        previous_alpha = self.alpha.copy()\n",
    "\t\t#Loop through every state you going to ->i\n",
    "        for state_i in self.q: \n",
    "            transition_obv = []\n",
    "\t\t\t#Loop through every state you are coming from j->\n",
    "            for state_j in self.q: \n",
    "                #Calculate the liklihood of seeing the observation given the state i\n",
    "                transition_obv.append(state_j.a[state_i.name] * state_i.b[observation] * previous_alpha[state_j.name])\n",
    "                #inter_step = state_j.a[state_i.name] * state_i.b[observation]\n",
    "                print(\"Going from state {1} -> {0}: {2} X emission: {3} = {5} X previous_alpha {4}\"\n",
    "                .format(state_i.name, state_j.name, state_j.a[state_i.name], state_i.b[observation], previous_alpha[state_j.name], inter_step))\n",
    "            self.alpha[state_i.name] = sum(transition_obv)\n",
    "    \n",
    "    def viterbi(self, observation):\n",
    "        previous_alpha = self.alpha.copy()\n",
    "        back_trace = {}\n",
    "        for state_i in self.q: \n",
    "            transition_obv = {}\n",
    "            for state_j in self.q: \n",
    "                #Calculate the liklihood of seeing the observation given the state i\n",
    "                transition_obv[state_j.name] = (state_j.a[state_i.name] * state_i.b[observation] * previous_alpha[state_j.name])\n",
    "                inter_step = state_j.a[state_i.name] * state_i.b[observation]\n",
    "                print(\"Going from state {1} -> {0}: {2} X emission: {3} = {5} X previous_alpha {4}\"\n",
    "                .format(state_i.name, state_j.name, state_j.a[state_i.name], state_i.b[observation], previous_alpha[state_j.name], inter_step))\n",
    "            #print(\"Total = {0}\".format(sum(transition_obv)))\n",
    "            self.alpha[state_i.name] = max(transition_obv.values())\n",
    "            back_trace[state_i.name] = get_key(self.alpha[state_i.name], transition_obv)\n",
    "        return back_trace\n",
    "\n",
    "\n",
    "\n"
   ]
  },
  {
   "source": [
    "\n"
   ],
   "cell_type": "markdown",
   "metadata": {}
  },
  {
   "cell_type": "code",
   "execution_count": 30,
   "metadata": {},
   "outputs": [],
   "source": [
    "states = []\n",
    "hot_transition = {'Hot':.6, 'Cold':.4}\n",
    "hot_emission = {1:.2, 2:.4, 3:.4}\n",
    "cold_transition = {'Hot':.5, 'Cold':.5}\n",
    "cold_emission = {1:.5, 2:.4, 3:.1}\n",
    "\n",
    "\n",
    "hot = State('Hot', hot_transition, hot_emission)\n",
    "cold = State('Cold', cold_transition, cold_emission)\n",
    "hmm = HMM([hot, cold], {\"Hot\":.8, \"Cold\":.2})\n"
   ]
  },
  {
   "cell_type": "code",
   "execution_count": 33,
   "metadata": {},
   "outputs": [
    {
     "output_type": "stream",
     "name": "stdout",
     "text": [
      "Going from state Hot -> Hot: 0.6 X emission: 0.2 = 0.12 X previous_alpha 0.32000000000000006\nGoing from state Cold -> Hot: 0.5 X emission: 0.2 = 0.1 X previous_alpha 0.020000000000000004\nGoing from state Hot -> Cold: 0.4 X emission: 0.5 = 0.2 X previous_alpha 0.32000000000000006\nGoing from state Cold -> Cold: 0.5 X emission: 0.5 = 0.25 X previous_alpha 0.020000000000000004\nGoing from state Hot -> Hot: 0.6 X emission: 0.4 = 0.24 X previous_alpha 0.038400000000000004\nGoing from state Cold -> Hot: 0.5 X emission: 0.4 = 0.2 X previous_alpha 0.06400000000000002\nGoing from state Hot -> Cold: 0.4 X emission: 0.1 = 0.04000000000000001 X previous_alpha 0.038400000000000004\nGoing from state Cold -> Cold: 0.5 X emission: 0.1 = 0.05 X previous_alpha 0.06400000000000002\nGoing from state Hot -> Hot: 0.6 X emission: 0.4 = 0.24 X previous_alpha 0.012800000000000004\nGoing from state Cold -> Hot: 0.5 X emission: 0.4 = 0.2 X previous_alpha 0.003200000000000001\nGoing from state Hot -> Cold: 0.4 X emission: 0.1 = 0.04000000000000001 X previous_alpha 0.012800000000000004\nGoing from state Cold -> Cold: 0.5 X emission: 0.1 = 0.05 X previous_alpha 0.003200000000000001\nGoing from state Hot -> Hot: 0.6 X emission: 0.4 = 0.24 X previous_alpha 0.003072000000000001\nGoing from state Cold -> Hot: 0.5 X emission: 0.4 = 0.2 X previous_alpha 0.0005120000000000003\nGoing from state Hot -> Cold: 0.4 X emission: 0.4 = 0.16000000000000003 X previous_alpha 0.003072000000000001\nGoing from state Cold -> Cold: 0.5 X emission: 0.4 = 0.2 X previous_alpha 0.0005120000000000003\nGoing from state Hot -> Hot: 0.6 X emission: 0.4 = 0.24 X previous_alpha 0.0007372800000000002\nGoing from state Cold -> Hot: 0.5 X emission: 0.4 = 0.2 X previous_alpha 0.0004915200000000003\nGoing from state Hot -> Cold: 0.4 X emission: 0.1 = 0.04000000000000001 X previous_alpha 0.0007372800000000002\nGoing from state Cold -> Cold: 0.5 X emission: 0.1 = 0.05 X previous_alpha 0.0004915200000000003\nGoing from state Hot -> Hot: 0.6 X emission: 0.2 = 0.12 X previous_alpha 0.00017694720000000004\nGoing from state Cold -> Hot: 0.5 X emission: 0.2 = 0.1 X previous_alpha 2.9491200000000013e-05\nGoing from state Hot -> Cold: 0.4 X emission: 0.5 = 0.2 X previous_alpha 0.00017694720000000004\nGoing from state Cold -> Cold: 0.5 X emission: 0.5 = 0.25 X previous_alpha 2.9491200000000013e-05\nGoing from state Hot -> Hot: 0.6 X emission: 0.4 = 0.24 X previous_alpha 2.1233664000000005e-05\nGoing from state Cold -> Hot: 0.5 X emission: 0.4 = 0.2 X previous_alpha 3.5389440000000007e-05\nGoing from state Hot -> Cold: 0.4 X emission: 0.4 = 0.16000000000000003 X previous_alpha 2.1233664000000005e-05\nGoing from state Cold -> Cold: 0.5 X emission: 0.4 = 0.2 X previous_alpha 3.5389440000000007e-05\nGoing from state Hot -> Hot: 0.6 X emission: 0.4 = 0.24 X previous_alpha 7.077888000000002e-06\nGoing from state Cold -> Hot: 0.5 X emission: 0.4 = 0.2 X previous_alpha 7.077888000000002e-06\nGoing from state Hot -> Cold: 0.4 X emission: 0.1 = 0.04000000000000001 X previous_alpha 7.077888000000002e-06\nGoing from state Cold -> Cold: 0.5 X emission: 0.1 = 0.05 X previous_alpha 7.077888000000002e-06\nGoing from state Hot -> Hot: 0.6 X emission: 0.4 = 0.24 X previous_alpha 1.6986931200000004e-06\nGoing from state Cold -> Hot: 0.5 X emission: 0.4 = 0.2 X previous_alpha 3.5389440000000013e-07\nGoing from state Hot -> Cold: 0.4 X emission: 0.1 = 0.04000000000000001 X previous_alpha 1.6986931200000004e-06\nGoing from state Cold -> Cold: 0.5 X emission: 0.1 = 0.05 X previous_alpha 3.5389440000000013e-07\nHot\n[{'Hot': 'Hot', 'Cold': 'Hot'}, {'Hot': 'Cold', 'Cold': 'Cold'}, {'Hot': 'Hot', 'Cold': 'Hot'}, {'Hot': 'Hot', 'Cold': 'Hot'}, {'Hot': 'Hot', 'Cold': 'Hot'}, {'Hot': 'Hot', 'Cold': 'Hot'}, {'Hot': 'Cold', 'Cold': 'Cold'}, {'Hot': 'Hot', 'Cold': 'Cold'}, {'Hot': 'Hot', 'Cold': 'Hot'}]\nHot\nHot\nHot\nCold\nHot\nHot\nHot\nHot\nCold\n"
     ]
    },
    {
     "output_type": "execute_result",
     "data": {
      "text/plain": [
       "['Hot', 'Cold', 'Hot', 'Hot', 'Hot', 'Hot', 'Cold', 'Hot', 'Hot', 'Hot']"
      ]
     },
     "metadata": {},
     "execution_count": 33
    }
   ],
   "source": [
    "\n",
    "#hmm.likelihood([1,2,2])\n",
    "hmm.decode([3,1,3,3,2,3,1,2,3,3])"
   ]
  },
  {
   "source": [
    "We know the sum of all probabilites after any given times step T should be 1"
   ],
   "cell_type": "markdown",
   "metadata": {}
  },
  {
   "cell_type": "code",
   "execution_count": 17,
   "metadata": {},
   "outputs": [
    {
     "output_type": "stream",
     "name": "stdout",
     "text": [
      "1.0000000000000002\n0.019202000000000004\n[1, 3, 3]\n"
     ]
    }
   ],
   "source": [
    "likelihoods = []\n",
    "#Get all possible combinations of outputs for 3 times steps\n",
    "min = 1\n",
    "min_val = []\n",
    "for i in range(1,4):\n",
    "    for j in range(1,4):\n",
    "        for k in range(1,4):\n",
    "            a = hmm.likelihood([i,j,k])\n",
    "            if (a < min):\n",
    "                min = a\n",
    "                min_val = [i,j,k]\n",
    "            likelihoods.append(hmm.likelihood([i,j,k]))\n",
    "           \n",
    "print(sum(likelihoods))\n",
    "print(min)\n",
    "print(min_val)"
   ]
  },
  {
   "cell_type": "code",
   "execution_count": 206,
   "metadata": {},
   "outputs": [],
   "source": [
    "\n"
   ]
  },
  {
   "cell_type": "code",
   "execution_count": 34,
   "metadata": {},
   "outputs": [
    {
     "output_type": "execute_result",
     "data": {
      "text/plain": [
       "'hello world'"
      ]
     },
     "metadata": {},
     "execution_count": 34
    }
   ],
   "source": [
    "\n"
   ]
  },
  {
   "cell_type": "code",
   "execution_count": 50,
   "metadata": {},
   "outputs": [
    {
     "output_type": "execute_result",
     "data": {
      "text/plain": [
       "0.6"
      ]
     },
     "metadata": {},
     "execution_count": 50
    }
   ],
   "source": []
  },
  {
   "cell_type": "code",
   "execution_count": null,
   "metadata": {},
   "outputs": [],
   "source": [
    "\n"
   ]
  }
 ]
}
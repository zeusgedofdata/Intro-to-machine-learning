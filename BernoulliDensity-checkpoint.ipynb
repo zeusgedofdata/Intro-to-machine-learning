{
 "cells": [
  {
   "cell_type": "code",
   "execution_count": 360,
   "metadata": {},
   "outputs": [],
   "source": [
    "import pandas as pd\n",
    "import numpy as np\n",
    "import seaborn as sns\n",
    "import matplotlib.pyplot as plt\n",
    "import matplotlib.patches as patches\n",
    "import ipywidgets as widgets\n",
    "import math\n",
    "from random import randint\n"
   ]
  },
  {
   "cell_type": "markdown",
   "metadata": {},
   "source": [
    "Estimating the equation for Bernoulli Density"
   ]
  },
  {
   "cell_type": "code",
   "execution_count": 424,
   "metadata": {},
   "outputs": [
    {
     "data": {
      "text/plain": [
       "0.1388888888888889"
      ]
     },
     "execution_count": 424,
     "metadata": {},
     "output_type": "execute_result"
    }
   ],
   "source": [
    "def flip_coins(n):\n",
    "    return sum([randint(0,1) for x in range(n)])\n",
    "\n",
    "def roll_dice_values(sides,n):\n",
    "    return [randint(1,sides) for x in range(n)]\n",
    "\n",
    "def roll_dice(sides,n):\n",
    "    return sum([randint(1,sides) for x in range(n)])\n",
    "\n",
    "#Table at: https://wizardofodds.com/gambling/dice/2/\n",
    "def calculate_number_combinations(expected_value, number_dice, number_sides=6):\n",
    "    if(number_dice is 1):\n",
    "        if 0 < expected_value <= number_sides:\n",
    "            return 1\n",
    "        else:\n",
    "            return 0\n",
    "    else:\n",
    "        return sum([calculate_number_combinations(x,number_dice-1, number_sides) for x in range(expected_value-number_sides, expected_value)])\n",
    "\n",
    "def calculate_dice_liklyhood(expected_value, number_dice, number_sides=6):\n",
    "    return calculate_number_combinations(expected_value, number_dice, number_sides)/number_sides**number_dice\n",
    "    \n",
    "def calculate_bernoulli_density(p,x0,x1,n):\n",
    "    density = 0\n",
    "    for x_prime in range(x0, x1+1):\n",
    "        binomial_coefficient = math.factorial(n)/(math.factorial(x_prime)*math.factorial(n-x_prime))\n",
    "        density_= binomial_coefficient * p**x_prime*(1-p)**(n-x_prime)\n",
    "        density += density_\n",
    "    return density\n",
    "calculate_bernoulli_density(.5,4,6,10)\n",
    "calculate_dice_liklyhood(8,2)\n",
    "\n",
    "#comb(12 with 3 dice)=comb(11 with 2 dice)+comb(10 with 2 dice)+comb(9 with 2 dice)+comb(8 with 2 dice)+comb(7 with 2 dice)+comb(6 with 2 dice),"
   ]
  },
  {
   "cell_type": "code",
   "execution_count": 174,
   "metadata": {},
   "outputs": [
    {
     "data": {
      "application/vnd.jupyter.widget-view+json": {
       "model_id": "7e73921b80bf4f3da254e73bde75bd94",
       "version_major": 2,
       "version_minor": 0
      },
      "text/plain": [
       "VBox(children=(IntSlider(value=100, description='# exp', max=1000, min=50), IntSlider(value=10, description='#…"
      ]
     },
     "metadata": {},
     "output_type": "display_data"
    }
   ],
   "source": [
    "experiment_count_slide = widgets.IntSlider(\n",
    "         description='# exp',\n",
    "         value=100,\n",
    "         min=50,\n",
    "         max=1000)\n",
    "number_flips_slide = widgets.IntSlider(\n",
    "         description='# of flips',\n",
    "         value=10,\n",
    "         min=10,\n",
    "         max=250)\n",
    "range_slide = widgets.IntRangeSlider(\n",
    "    value=[5, 7],\n",
    "    min=1,\n",
    "    max=250,\n",
    "    step=1,\n",
    "    description='Test:',\n",
    "    continuous_update=False,\n",
    "    readout=True,\n",
    "    readout_format='d',\n",
    ")\n",
    "\n",
    "use_slider_inputs = widgets.Checkbox(\n",
    "    value=False,\n",
    "    description='Use values set by these sliders',\n",
    "    disabled=False,\n",
    ")\n",
    "\n",
    "box = widgets.VBox([experiment_count_slide, number_flips_slide, range_slide, use_slider_inputs])\n",
    "box"
   ]
  },
  {
   "cell_type": "markdown",
   "metadata": {},
   "source": [
    "# What is the likelyhood of flipping x number of heads between y and z given n flips? "
   ]
  },
  {
   "cell_type": "code",
   "execution_count": 317,
   "metadata": {},
   "outputs": [
    {
     "data": {
      "text/plain": [
       "<matplotlib.axes._subplots.AxesSubplot at 0x27618640358>"
      ]
     },
     "execution_count": 317,
     "metadata": {},
     "output_type": "execute_result"
    },
    {
     "data": {
      "image/png": "[encoded data removed]",
      "text/plain": [
       "<Figure size 432x288 with 1 Axes>"
      ]
     },
     "metadata": {
      "needs_background": "light"
     },
     "output_type": "display_data"
    }
   ],
   "source": [
    "experiment_count = 1000\n",
    "number_flips = 100\n",
    "expected_range = [40,60]\n",
    "\n",
    "if use_slider_inputs.value:\n",
    "    experiment_count = experiment_count_slide.value\n",
    "    number_flips=number_flips_slide.value\n",
    "    expected_range = list(range_slide.value)\n",
    "    \n",
    "    \n",
    "results = []\n",
    "bernoulli = pd.DataFrame(columns = ['observed', 'predicted'])\n",
    "\n",
    "#Simulate experiments\n",
    "for n in range(experiment_count):\n",
    "    flips = flip_coins(number_flips)\n",
    "    result = int(expected_range[0]<=flips<=expected_range[1])\n",
    "    results.append(result)\n",
    "    observed = sum(results)/(n+1)\n",
    "    bernoulli = bernoulli.append({'observed':observed}, ignore_index = True)\n",
    "\n",
    "#Calculate Predicted value\n",
    "bernoulli['predicted'] = calculate_bernoulli_density(.5,expected_range[0],expected_range[1],number_flips)\n",
    "\n",
    "ax = plt.gca()\n",
    "bernoulli.plot(kind='line', y='observed', ax=ax)\n",
    "bernoulli.plot(kind='line', y='predicted', ax=ax)"
   ]
  },
  {
   "cell_type": "markdown",
   "metadata": {},
   "source": [
    "# What is the Likelyhood of rolling the sum between y and z given n dice with s sides. "
   ]
  },
  {
   "cell_type": "code",
   "execution_count": 471,
   "metadata": {},
   "outputs": [
    {
     "data": {
      "text/plain": [
       "<matplotlib.axes._subplots.AxesSubplot at 0x2762497ce80>"
      ]
     },
     "execution_count": 471,
     "metadata": {},
     "output_type": "execute_result"
    },
    {
     "data": {
      "image/png": "[encoded data removed]",
      "text/plain": [
       "<Figure size 432x288 with 1 Axes>"
      ]
     },
     "metadata": {
      "needs_background": "light"
     },
     "output_type": "display_data"
    }
   ],
   "source": [
    "experiment_count = 1000\n",
    "number_dice = 5\n",
    "number_sides = 10\n",
    "expected_range = [20,30] #[5,6] resolves to 5\n",
    "\n",
    "results = []\n",
    "bernoulli = pd.DataFrame(columns = ['observed', 'predicted'])\n",
    "\n",
    "for n in range(experiment_count):\n",
    "    die_value = roll_dice(number_sides, number_dice)\n",
    "    result = int(expected_range[0]<=die_value<expected_range[1])\n",
    "    results.append(result)\n",
    "    observed = sum(results)/(n+1)\n",
    "    bernoulli = bernoulli.append({'observed':observed}, ignore_index = True)\n",
    "\n",
    "\n",
    "bernoulli['predicted'] = sum([calculate_dice_liklyhood(x,number_dice, number_sides) for x in range(expected_range[0],expected_range[1])])\n",
    "\n",
    "\n",
    "\n",
    "ax = plt.gca()\n",
    "bernoulli.plot(kind='line', y='observed', ax=ax)\n",
    "bernoulli.plot(kind='line', y='predicted', ax=ax)"
   ]
  },
  {
   "cell_type": "markdown",
   "metadata": {},
   "source": [
    "# If I roll a s sided dice n times what is the liklyhood x will occur n times"
   ]
  },
  {
   "cell_type": "code",
   "execution_count": 473,
   "metadata": {},
   "outputs": [
    {
     "name": "stdout",
     "output_type": "stream",
     "text": [
      "0.41666666666666674\n"
     ]
    },
    {
     "data": {
      "text/plain": [
       "<matplotlib.axes._subplots.AxesSubplot at 0x276249cfac8>"
      ]
     },
     "execution_count": 473,
     "metadata": {},
     "output_type": "execute_result"
    },
    {
     "data": {
      "image/png": "[encoded data removed]",
      "text/plain": [
       "<Figure size 432x288 with 1 Axes>"
      ]
     },
     "metadata": {
      "needs_background": "light"
     },
     "output_type": "display_data"
    }
   ],
   "source": [
    "experiment_count = 10000\n",
    "number_rolls = 10\n",
    "number_sides = 10\n",
    "expected_value = 6\n",
    "expected_occurances = [4,8]\n",
    "\n",
    "results = []\n",
    "bernoulli = pd.DataFrame(columns = ['observed', 'predicted'])\n",
    "\n",
    "for n in range(experiment_count):\n",
    "    die_value = roll_dice_values(number_sides, number_rolls)\n",
    "    observed_occurances = die_value.count(expected_value)\n",
    "    result = int(expected_occurances[0]<=observed_occurances<=expected_occurances[1])\n",
    "    results.append(result)\n",
    "    observed = sum(results)/(n+1)\n",
    "    bernoulli = bernoulli.append({'observed':observed}, ignore_index = True)\n",
    "\n",
    "\n",
    "bernoulli['predicted'] = calculate_bernoulli_density(1/number_sides,expected_occurances[0],expected_occurances[1],number_rolls)\n",
    "\n",
    "#x  = \n",
    "print(x)\n",
    "ax = plt.gca()\n",
    "bernoulli.plot(kind='line', y='observed', ax=ax)\n",
    "bernoulli.plot(kind='line', y='predicted', ax=ax)"
   ]
  },
  {
   "cell_type": "code",
   "execution_count": null,
   "metadata": {},
   "outputs": [],
   "source": []
  }
 ],
 "metadata": {
  "kernelspec": {
   "display_name": "Python 3",
   "language": "python",
   "name": "python3"
  },
  "language_info": {
   "codemirror_mode": {
    "name": "ipython",
    "version": 3
   },
   "file_extension": ".py",
   "mimetype": "text/x-python",
   "name": "python",
   "nbconvert_exporter": "python",
   "pygments_lexer": "ipython3",
   "version": "3.6.9"
  }
 },
 "nbformat": 4,
 "nbformat_minor": 4
}
